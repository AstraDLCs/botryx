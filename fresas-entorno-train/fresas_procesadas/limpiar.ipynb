{
 "cells": [
  {
   "cell_type": "code",
   "execution_count": null,
   "metadata": {},
   "outputs": [],
   "source": [
    "import os\n",
    "\n",
    "images_folder = 'images'\n",
    "labels_folder = 'labels'\n",
    "\n",
    "images = {os.path.splitext(f)[0] for f in os.listdir(images_folder) if f.endswith('.jpg')}\n",
    "labels = {os.path.splitext(f)[0] for f in os.listdir(labels_folder) if f.endswith('.txt')}\n",
    "\n",
    "labels_without_images = labels - images\n",
    "\n",
    "print(\"labels huerfanos:\")\n",
    "for label in labels_without_images:\n",
    "    print(f\"{label}.txt\")\n",
    "\n",
    "for label in labels_without_images:\n",
    "    label_path = os.path.join(labels_folder, f\"{label}.txt\")\n",
    "    if os.path.exists(label_path):\n",
    "        os.remove(label_path)\n",
    "        print(f\"Eliminado: {label}.txt\")\n",
    "\n",
    "print(\"finito\")\n"
   ]
  },
  {
   "cell_type": "code",
   "execution_count": null,
   "metadata": {},
   "outputs": [],
   "source": [
    "import os\n",
    "import shutil\n",
    "import random\n",
    "\n",
    "images_folder = 'images'\n",
    "labels_folder = 'labels'\n",
    "train_folder = 'train'\n",
    "validate_folder = 'validate'\n",
    "\n",
    "for folder in [train_folder, validate_folder]:\n",
    "    os.makedirs(os.path.join(folder, 'images'), exist_ok=True)\n",
    "    os.makedirs(os.path.join(folder, 'labels'), exist_ok=True)\n",
    "\n",
    "images = sorted([f for f in os.listdir(images_folder) if f.endswith('.jpg')])\n",
    "labels = sorted([f for f in os.listdir(labels_folder) if f.endswith('.txt')])\n",
    "\n",
    "data_pairs = [(img, img.replace('.jpg', '.txt')) for img in images if img.replace('.jpg', '.txt') in labels]\n",
    "\n",
    "random.shuffle(data_pairs)\n",
    "\n",
    "split_index = int(0.8 * len(data_pairs))\n",
    "train_pairs = data_pairs[:split_index]\n",
    "validate_pairs = data_pairs[split_index:]\n",
    "\n",
    "def move_files(pairs, dest_folder):\n",
    "    for img, lbl in pairs:\n",
    "        shutil.copy(os.path.join(images_folder, img), os.path.join(dest_folder, 'images', img))\n",
    "        shutil.copy(os.path.join(labels_folder, lbl), os.path.join(dest_folder, 'labels', lbl))\n",
    "\n",
    "move_files(train_pairs, train_folder)\n",
    "move_files(validate_pairs, validate_folder)\n",
    "\n",
    "print(\"segmentacion completada: 80% en train y 20% en validate.\")\n"
   ]
  }
 ],
 "metadata": {
  "kernelspec": {
   "display_name": "base",
   "language": "python",
   "name": "python3"
  },
  "language_info": {
   "codemirror_mode": {
    "name": "ipython",
    "version": 3
   },
   "file_extension": ".py",
   "mimetype": "text/x-python",
   "name": "python",
   "nbconvert_exporter": "python",
   "pygments_lexer": "ipython3",
   "version": "3.12.3"
  }
 },
 "nbformat": 4,
 "nbformat_minor": 2
}
